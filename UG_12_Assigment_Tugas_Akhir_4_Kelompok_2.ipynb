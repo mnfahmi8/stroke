{
 "cells": [
  {
   "cell_type": "code",
   "execution_count": 39,
   "id": "4ac0b318",
   "metadata": {
    "execution": {
     "iopub.execute_input": "2021-12-02T13:56:41.669256Z",
     "iopub.status.busy": "2021-12-02T13:56:41.668024Z",
     "iopub.status.idle": "2021-12-02T13:56:42.632874Z",
     "shell.execute_reply": "2021-12-02T13:56:42.632183Z",
     "shell.execute_reply.started": "2021-12-02T12:27:28.086727Z"
    },
    "id": "4ac0b318",
    "papermill": {
     "duration": 1.013915,
     "end_time": "2021-12-02T13:56:42.633072",
     "exception": false,
     "start_time": "2021-12-02T13:56:41.619157",
     "status": "completed"
    },
    "tags": []
   },
   "outputs": [],
   "source": [
    "import pandas as pd\n",
    "import numpy as np\n",
    "import matplotlib.pyplot as plt\n",
    "import seaborn as sns"
   ]
  },
  {
   "cell_type": "code",
   "execution_count": 40,
   "id": "ef74cfe2",
   "metadata": {
    "colab": {
     "base_uri": "https://localhost:8080/",
     "height": 261
    },
    "execution": {
     "iopub.execute_input": "2021-12-02T13:56:42.726167Z",
     "iopub.status.busy": "2021-12-02T13:56:42.725473Z",
     "iopub.status.idle": "2021-12-02T13:56:42.785635Z",
     "shell.execute_reply": "2021-12-02T13:56:42.786179Z",
     "shell.execute_reply.started": "2021-12-02T12:27:28.413719Z"
    },
    "id": "ef74cfe2",
    "outputId": "f4a8d4fb-0607-42b7-f1e4-9560d09f2099",
    "papermill": {
     "duration": 0.109492,
     "end_time": "2021-12-02T13:56:42.786356",
     "exception": false,
     "start_time": "2021-12-02T13:56:42.676864",
     "status": "completed"
    },
    "tags": []
   },
   "outputs": [
    {
     "data": {
      "text/html": [
       "<div>\n",
       "<style scoped>\n",
       "    .dataframe tbody tr th:only-of-type {\n",
       "        vertical-align: middle;\n",
       "    }\n",
       "\n",
       "    .dataframe tbody tr th {\n",
       "        vertical-align: top;\n",
       "    }\n",
       "\n",
       "    .dataframe thead th {\n",
       "        text-align: right;\n",
       "    }\n",
       "</style>\n",
       "<table border=\"1\" class=\"dataframe\">\n",
       "  <thead>\n",
       "    <tr style=\"text-align: right;\">\n",
       "      <th></th>\n",
       "      <th>id</th>\n",
       "      <th>gender</th>\n",
       "      <th>age</th>\n",
       "      <th>hypertension</th>\n",
       "      <th>heart_disease</th>\n",
       "      <th>ever_married</th>\n",
       "      <th>work_type</th>\n",
       "      <th>Residence_type</th>\n",
       "      <th>avg_glucose_level</th>\n",
       "      <th>bmi</th>\n",
       "      <th>smoking_status</th>\n",
       "      <th>stroke</th>\n",
       "    </tr>\n",
       "  </thead>\n",
       "  <tbody>\n",
       "    <tr>\n",
       "      <th>0</th>\n",
       "      <td>9046</td>\n",
       "      <td>Male</td>\n",
       "      <td>67.0</td>\n",
       "      <td>0</td>\n",
       "      <td>1</td>\n",
       "      <td>Yes</td>\n",
       "      <td>Private</td>\n",
       "      <td>Urban</td>\n",
       "      <td>228.69</td>\n",
       "      <td>36.6</td>\n",
       "      <td>formerly smoked</td>\n",
       "      <td>1</td>\n",
       "    </tr>\n",
       "    <tr>\n",
       "      <th>1</th>\n",
       "      <td>51676</td>\n",
       "      <td>Female</td>\n",
       "      <td>61.0</td>\n",
       "      <td>0</td>\n",
       "      <td>0</td>\n",
       "      <td>Yes</td>\n",
       "      <td>Self-employed</td>\n",
       "      <td>Rural</td>\n",
       "      <td>202.21</td>\n",
       "      <td>NaN</td>\n",
       "      <td>never smoked</td>\n",
       "      <td>1</td>\n",
       "    </tr>\n",
       "    <tr>\n",
       "      <th>2</th>\n",
       "      <td>31112</td>\n",
       "      <td>Male</td>\n",
       "      <td>80.0</td>\n",
       "      <td>0</td>\n",
       "      <td>1</td>\n",
       "      <td>Yes</td>\n",
       "      <td>Private</td>\n",
       "      <td>Rural</td>\n",
       "      <td>105.92</td>\n",
       "      <td>32.5</td>\n",
       "      <td>never smoked</td>\n",
       "      <td>1</td>\n",
       "    </tr>\n",
       "    <tr>\n",
       "      <th>3</th>\n",
       "      <td>60182</td>\n",
       "      <td>Female</td>\n",
       "      <td>49.0</td>\n",
       "      <td>0</td>\n",
       "      <td>0</td>\n",
       "      <td>Yes</td>\n",
       "      <td>Private</td>\n",
       "      <td>Urban</td>\n",
       "      <td>171.23</td>\n",
       "      <td>34.4</td>\n",
       "      <td>smokes</td>\n",
       "      <td>1</td>\n",
       "    </tr>\n",
       "    <tr>\n",
       "      <th>4</th>\n",
       "      <td>1665</td>\n",
       "      <td>Female</td>\n",
       "      <td>79.0</td>\n",
       "      <td>1</td>\n",
       "      <td>0</td>\n",
       "      <td>Yes</td>\n",
       "      <td>Self-employed</td>\n",
       "      <td>Rural</td>\n",
       "      <td>174.12</td>\n",
       "      <td>24.0</td>\n",
       "      <td>never smoked</td>\n",
       "      <td>1</td>\n",
       "    </tr>\n",
       "  </tbody>\n",
       "</table>\n",
       "</div>"
      ],
      "text/plain": [
       "      id  gender   age  hypertension  heart_disease ever_married  \\\n",
       "0   9046    Male  67.0             0              1          Yes   \n",
       "1  51676  Female  61.0             0              0          Yes   \n",
       "2  31112    Male  80.0             0              1          Yes   \n",
       "3  60182  Female  49.0             0              0          Yes   \n",
       "4   1665  Female  79.0             1              0          Yes   \n",
       "\n",
       "       work_type Residence_type  avg_glucose_level   bmi   smoking_status  \\\n",
       "0        Private          Urban             228.69  36.6  formerly smoked   \n",
       "1  Self-employed          Rural             202.21   NaN     never smoked   \n",
       "2        Private          Rural             105.92  32.5     never smoked   \n",
       "3        Private          Urban             171.23  34.4           smokes   \n",
       "4  Self-employed          Rural             174.12  24.0     never smoked   \n",
       "\n",
       "   stroke  \n",
       "0       1  \n",
       "1       1  \n",
       "2       1  \n",
       "3       1  \n",
       "4       1  "
      ]
     },
     "execution_count": 40,
     "metadata": {},
     "output_type": "execute_result"
    }
   ],
   "source": [
    "Stroke = pd.read_csv(\"C:/Users/ASUS/Tugas Mandiri SPADA DIKTI/Stroke/healthcare-dataset-stroke-data.csv\")\n",
    "Stroke.head()"
   ]
  },
  {
   "cell_type": "code",
   "execution_count": 41,
   "id": "034cebdb",
   "metadata": {
    "colab": {
     "base_uri": "https://localhost:8080/"
    },
    "execution": {
     "iopub.execute_input": "2021-12-02T13:56:42.879503Z",
     "iopub.status.busy": "2021-12-02T13:56:42.878475Z",
     "iopub.status.idle": "2021-12-02T13:56:42.904905Z",
     "shell.execute_reply": "2021-12-02T13:56:42.905482Z",
     "shell.execute_reply.started": "2021-12-02T12:27:28.449219Z"
    },
    "id": "034cebdb",
    "outputId": "9006eb63-f0eb-4445-f37f-c3e8a9e729bb",
    "papermill": {
     "duration": 0.074895,
     "end_time": "2021-12-02T13:56:42.905659",
     "exception": false,
     "start_time": "2021-12-02T13:56:42.830764",
     "status": "completed"
    },
    "tags": []
   },
   "outputs": [
    {
     "name": "stdout",
     "output_type": "stream",
     "text": [
      "<class 'pandas.core.frame.DataFrame'>\n",
      "RangeIndex: 5110 entries, 0 to 5109\n",
      "Data columns (total 12 columns):\n",
      " #   Column             Non-Null Count  Dtype  \n",
      "---  ------             --------------  -----  \n",
      " 0   id                 5110 non-null   int64  \n",
      " 1   gender             5110 non-null   object \n",
      " 2   age                5110 non-null   float64\n",
      " 3   hypertension       5110 non-null   int64  \n",
      " 4   heart_disease      5110 non-null   int64  \n",
      " 5   ever_married       5110 non-null   object \n",
      " 6   work_type          5110 non-null   object \n",
      " 7   Residence_type     5110 non-null   object \n",
      " 8   avg_glucose_level  5110 non-null   float64\n",
      " 9   bmi                4909 non-null   float64\n",
      " 10  smoking_status     5110 non-null   object \n",
      " 11  stroke             5110 non-null   int64  \n",
      "dtypes: float64(3), int64(4), object(5)\n",
      "memory usage: 479.2+ KB\n"
     ]
    }
   ],
   "source": [
    "Stroke.info()"
   ]
  },
  {
   "cell_type": "code",
   "execution_count": 42,
   "id": "b3c5b707",
   "metadata": {},
   "outputs": [],
   "source": [
    "#Data Preparation"
   ]
  },
  {
   "cell_type": "code",
   "execution_count": 43,
   "id": "bcdda2e5",
   "metadata": {},
   "outputs": [
    {
     "data": {
      "text/plain": [
       "id                     0\n",
       "gender                 0\n",
       "age                    0\n",
       "hypertension           0\n",
       "heart_disease          0\n",
       "ever_married           0\n",
       "work_type              0\n",
       "Residence_type         0\n",
       "avg_glucose_level      0\n",
       "bmi                  201\n",
       "smoking_status         0\n",
       "stroke                 0\n",
       "dtype: int64"
      ]
     },
     "execution_count": 43,
     "metadata": {},
     "output_type": "execute_result"
    }
   ],
   "source": [
    "Stroke.isnull().sum()"
   ]
  },
  {
   "cell_type": "code",
   "execution_count": 44,
   "id": "8eb405b9",
   "metadata": {},
   "outputs": [],
   "source": [
    "Stroke.dropna(inplace=True)"
   ]
  },
  {
   "cell_type": "code",
   "execution_count": 45,
   "id": "2177c258",
   "metadata": {},
   "outputs": [
    {
     "data": {
      "text/plain": [
       "id                   0\n",
       "gender               0\n",
       "age                  0\n",
       "hypertension         0\n",
       "heart_disease        0\n",
       "ever_married         0\n",
       "work_type            0\n",
       "Residence_type       0\n",
       "avg_glucose_level    0\n",
       "bmi                  0\n",
       "smoking_status       0\n",
       "stroke               0\n",
       "dtype: int64"
      ]
     },
     "execution_count": 45,
     "metadata": {},
     "output_type": "execute_result"
    }
   ],
   "source": [
    "Stroke.isnull().sum()"
   ]
  },
  {
   "cell_type": "code",
   "execution_count": 46,
   "id": "b31174cc",
   "metadata": {
    "execution": {
     "iopub.execute_input": "2021-12-02T13:56:42.999982Z",
     "iopub.status.busy": "2021-12-02T13:56:42.999301Z",
     "iopub.status.idle": "2021-12-02T13:56:43.002752Z",
     "shell.execute_reply": "2021-12-02T13:56:43.003368Z",
     "shell.execute_reply.started": "2021-12-02T12:27:28.467716Z"
    },
    "id": "b31174cc",
    "papermill": {
     "duration": 0.052054,
     "end_time": "2021-12-02T13:56:43.003538",
     "exception": false,
     "start_time": "2021-12-02T13:56:42.951484",
     "status": "completed"
    },
    "tags": []
   },
   "outputs": [],
   "source": [
    "#Data Cleaning"
   ]
  },
  {
   "cell_type": "code",
   "execution_count": 47,
   "id": "38fcd58a",
   "metadata": {
    "colab": {
     "base_uri": "https://localhost:8080/"
    },
    "execution": {
     "iopub.execute_input": "2021-12-02T13:56:43.096967Z",
     "iopub.status.busy": "2021-12-02T13:56:43.096231Z",
     "iopub.status.idle": "2021-12-02T13:56:43.115582Z",
     "shell.execute_reply": "2021-12-02T13:56:43.116098Z",
     "shell.execute_reply.started": "2021-12-02T12:27:28.473852Z"
    },
    "id": "38fcd58a",
    "outputId": "2bc4039f-2760-41b8-f475-a6eff335b303",
    "papermill": {
     "duration": 0.06779,
     "end_time": "2021-12-02T13:56:43.116287",
     "exception": false,
     "start_time": "2021-12-02T13:56:43.048497",
     "status": "completed"
    },
    "scrolled": true,
    "tags": []
   },
   "outputs": [
    {
     "name": "stdout",
     "output_type": "stream",
     "text": [
      "<class 'pandas.core.frame.DataFrame'>\n",
      "Int64Index: 4909 entries, 0 to 5109\n",
      "Data columns (total 11 columns):\n",
      " #   Column             Non-Null Count  Dtype  \n",
      "---  ------             --------------  -----  \n",
      " 0   gender             4909 non-null   object \n",
      " 1   age                4909 non-null   float64\n",
      " 2   hypertension       4909 non-null   int64  \n",
      " 3   heart_disease      4909 non-null   int64  \n",
      " 4   ever_married       4909 non-null   object \n",
      " 5   work_type          4909 non-null   object \n",
      " 6   Residence_type     4909 non-null   object \n",
      " 7   avg_glucose_level  4909 non-null   float64\n",
      " 8   bmi                4909 non-null   float64\n",
      " 9   smoking_status     4909 non-null   object \n",
      " 10  stroke             4909 non-null   int64  \n",
      "dtypes: float64(3), int64(3), object(5)\n",
      "memory usage: 460.2+ KB\n"
     ]
    }
   ],
   "source": [
    "Stroke = Stroke.drop('id',axis=1)\n",
    "Stroke.info()"
   ]
  },
  {
   "cell_type": "code",
   "execution_count": 48,
   "id": "dce96037",
   "metadata": {
    "colab": {
     "base_uri": "https://localhost:8080/"
    },
    "execution": {
     "iopub.execute_input": "2021-12-02T13:56:43.212378Z",
     "iopub.status.busy": "2021-12-02T13:56:43.211662Z",
     "iopub.status.idle": "2021-12-02T13:56:43.216954Z",
     "shell.execute_reply": "2021-12-02T13:56:43.217519Z",
     "shell.execute_reply.started": "2021-12-02T12:27:28.496741Z"
    },
    "id": "dce96037",
    "outputId": "c585b6c6-0d68-4f21-cee7-78c9dba05be9",
    "papermill": {
     "duration": 0.056946,
     "end_time": "2021-12-02T13:56:43.217698",
     "exception": false,
     "start_time": "2021-12-02T13:56:43.160752",
     "status": "completed"
    },
    "tags": []
   },
   "outputs": [
    {
     "data": {
      "text/plain": [
       "Urban    2490\n",
       "Rural    2419\n",
       "Name: Residence_type, dtype: int64"
      ]
     },
     "execution_count": 48,
     "metadata": {},
     "output_type": "execute_result"
    }
   ],
   "source": [
    "Stroke['Residence_type'].value_counts()"
   ]
  },
  {
   "cell_type": "code",
   "execution_count": 49,
   "id": "de50bccc",
   "metadata": {
    "colab": {
     "base_uri": "https://localhost:8080/"
    },
    "execution": {
     "iopub.execute_input": "2021-12-02T13:56:43.372357Z",
     "iopub.status.busy": "2021-12-02T13:56:43.371531Z",
     "iopub.status.idle": "2021-12-02T13:56:43.390235Z",
     "shell.execute_reply": "2021-12-02T13:56:43.390780Z",
     "shell.execute_reply.started": "2021-12-02T12:27:28.507182Z"
    },
    "id": "de50bccc",
    "outputId": "2de7e030-4773-46fd-abbb-16d633a8b00a",
    "papermill": {
     "duration": 0.067523,
     "end_time": "2021-12-02T13:56:43.390960",
     "exception": false,
     "start_time": "2021-12-02T13:56:43.323437",
     "status": "completed"
    },
    "tags": []
   },
   "outputs": [
    {
     "name": "stdout",
     "output_type": "stream",
     "text": [
      "<class 'pandas.core.frame.DataFrame'>\n",
      "Int64Index: 4909 entries, 0 to 5109\n",
      "Data columns (total 11 columns):\n",
      " #   Column             Non-Null Count  Dtype  \n",
      "---  ------             --------------  -----  \n",
      " 0   gender             4909 non-null   object \n",
      " 1   age                4909 non-null   float64\n",
      " 2   hypertension       4909 non-null   int64  \n",
      " 3   heart_disease      4909 non-null   int64  \n",
      " 4   ever_married       4909 non-null   int64  \n",
      " 5   work_type          4909 non-null   object \n",
      " 6   Residence_type     4909 non-null   int64  \n",
      " 7   avg_glucose_level  4909 non-null   float64\n",
      " 8   bmi                4909 non-null   float64\n",
      " 9   smoking_status     4909 non-null   object \n",
      " 10  stroke             4909 non-null   int64  \n",
      "dtypes: float64(3), int64(5), object(3)\n",
      "memory usage: 460.2+ KB\n"
     ]
    }
   ],
   "source": [
    "Stroke['ever_married'] = Stroke['ever_married'].map({'Yes':1,'No':0})\n",
    "Stroke['Residence_type'] = Stroke['Residence_type'].map({'Urban':1,'Rural':0})\n",
    "Stroke.info()"
   ]
  },
  {
   "cell_type": "code",
   "execution_count": 50,
   "id": "bbff04a4",
   "metadata": {
    "execution": {
     "iopub.execute_input": "2021-12-02T13:56:43.491880Z",
     "iopub.status.busy": "2021-12-02T13:56:43.491184Z",
     "iopub.status.idle": "2021-12-02T13:56:43.507584Z",
     "shell.execute_reply": "2021-12-02T13:56:43.508106Z",
     "shell.execute_reply.started": "2021-12-02T12:27:28.531809Z"
    },
    "id": "bbff04a4",
    "papermill": {
     "duration": 0.07041,
     "end_time": "2021-12-02T13:56:43.508308",
     "exception": false,
     "start_time": "2021-12-02T13:56:43.437898",
     "status": "completed"
    },
    "tags": []
   },
   "outputs": [],
   "source": [
    "temp = pd.get_dummies(Stroke['gender'])\n",
    "Stroke = pd.concat([Stroke,temp],axis=1)\n",
    "Stroke.drop('gender',axis=1,inplace=True)\n",
    "\n",
    "temp = pd.get_dummies(Stroke['work_type'])\n",
    "Stroke = pd.concat([Stroke,temp],axis=1)\n",
    "Stroke.drop('work_type',axis=1,inplace=True)\n",
    "\n",
    "temp = pd.get_dummies(Stroke['smoking_status'])\n",
    "Stroke = pd.concat([Stroke,temp],axis=1)\n",
    "Stroke.drop('smoking_status',axis=1,inplace=True)"
   ]
  },
  {
   "cell_type": "code",
   "execution_count": 51,
   "id": "df17a82d",
   "metadata": {
    "execution": {
     "iopub.execute_input": "2021-12-02T13:56:43.604495Z",
     "iopub.status.busy": "2021-12-02T13:56:43.603493Z",
     "iopub.status.idle": "2021-12-02T13:56:43.607734Z",
     "shell.execute_reply": "2021-12-02T13:56:43.607028Z",
     "shell.execute_reply.started": "2021-12-02T12:27:28.554185Z"
    },
    "id": "df17a82d",
    "papermill": {
     "duration": 0.053943,
     "end_time": "2021-12-02T13:56:43.607883",
     "exception": false,
     "start_time": "2021-12-02T13:56:43.553940",
     "status": "completed"
    },
    "tags": []
   },
   "outputs": [],
   "source": [
    "#Not deleting the first column of dummy variables as I intend to perform EDA on them. "
   ]
  },
  {
   "cell_type": "code",
   "execution_count": 52,
   "id": "02a8dbe4",
   "metadata": {
    "colab": {
     "base_uri": "https://localhost:8080/"
    },
    "execution": {
     "iopub.execute_input": "2021-12-02T13:56:43.705851Z",
     "iopub.status.busy": "2021-12-02T13:56:43.705196Z",
     "iopub.status.idle": "2021-12-02T13:56:43.719068Z",
     "shell.execute_reply": "2021-12-02T13:56:43.718534Z",
     "shell.execute_reply.started": "2021-12-02T12:27:28.559929Z"
    },
    "id": "02a8dbe4",
    "outputId": "9ef1eb39-e6e3-4e46-c6af-e17422881705",
    "papermill": {
     "duration": 0.063932,
     "end_time": "2021-12-02T13:56:43.719212",
     "exception": false,
     "start_time": "2021-12-02T13:56:43.655280",
     "status": "completed"
    },
    "scrolled": true,
    "tags": []
   },
   "outputs": [
    {
     "name": "stdout",
     "output_type": "stream",
     "text": [
      "<class 'pandas.core.frame.DataFrame'>\n",
      "Int64Index: 4909 entries, 0 to 5109\n",
      "Data columns (total 20 columns):\n",
      " #   Column             Non-Null Count  Dtype  \n",
      "---  ------             --------------  -----  \n",
      " 0   age                4909 non-null   float64\n",
      " 1   hypertension       4909 non-null   int64  \n",
      " 2   heart_disease      4909 non-null   int64  \n",
      " 3   ever_married       4909 non-null   int64  \n",
      " 4   Residence_type     4909 non-null   int64  \n",
      " 5   avg_glucose_level  4909 non-null   float64\n",
      " 6   bmi                4909 non-null   float64\n",
      " 7   stroke             4909 non-null   int64  \n",
      " 8   Female             4909 non-null   uint8  \n",
      " 9   Male               4909 non-null   uint8  \n",
      " 10  Other              4909 non-null   uint8  \n",
      " 11  Govt_job           4909 non-null   uint8  \n",
      " 12  Never_worked       4909 non-null   uint8  \n",
      " 13  Private            4909 non-null   uint8  \n",
      " 14  Self-employed      4909 non-null   uint8  \n",
      " 15  children           4909 non-null   uint8  \n",
      " 16  Unknown            4909 non-null   uint8  \n",
      " 17  formerly smoked    4909 non-null   uint8  \n",
      " 18  never smoked       4909 non-null   uint8  \n",
      " 19  smokes             4909 non-null   uint8  \n",
      "dtypes: float64(3), int64(5), uint8(12)\n",
      "memory usage: 402.7 KB\n"
     ]
    }
   ],
   "source": [
    "Stroke.info()"
   ]
  },
  {
   "cell_type": "code",
   "execution_count": 53,
   "id": "721f61e1",
   "metadata": {
    "execution": {
     "iopub.execute_input": "2021-12-02T13:56:43.816160Z",
     "iopub.status.busy": "2021-12-02T13:56:43.815425Z",
     "iopub.status.idle": "2021-12-02T13:56:44.262595Z",
     "shell.execute_reply": "2021-12-02T13:56:44.261952Z",
     "shell.execute_reply.started": "2021-12-02T12:27:28.584689Z"
    },
    "id": "721f61e1",
    "papermill": {
     "duration": 0.497503,
     "end_time": "2021-12-02T13:56:44.262748",
     "exception": false,
     "start_time": "2021-12-02T13:56:43.765245",
     "status": "completed"
    },
    "tags": []
   },
   "outputs": [],
   "source": [
    "from sklearn.experimental import enable_iterative_imputer\n",
    "from sklearn.impute import IterativeImputer"
   ]
  },
  {
   "cell_type": "code",
   "execution_count": 54,
   "id": "893bc84a",
   "metadata": {
    "execution": {
     "iopub.execute_input": "2021-12-02T13:56:44.364097Z",
     "iopub.status.busy": "2021-12-02T13:56:44.363286Z",
     "iopub.status.idle": "2021-12-02T13:56:44.738202Z",
     "shell.execute_reply": "2021-12-02T13:56:44.739186Z",
     "shell.execute_reply.started": "2021-12-02T12:27:28.781137Z"
    },
    "id": "893bc84a",
    "papermill": {
     "duration": 0.429599,
     "end_time": "2021-12-02T13:56:44.739480",
     "exception": false,
     "start_time": "2021-12-02T13:56:44.309881",
     "status": "completed"
    },
    "tags": []
   },
   "outputs": [],
   "source": [
    "imputer = IterativeImputer()\n",
    "col = Stroke.columns\n",
    "Stroke = imputer.fit_transform(Stroke)\n",
    "Stroke = pd.DataFrame(Stroke,columns=col)"
   ]
  },
  {
   "cell_type": "code",
   "execution_count": 55,
   "id": "8db46841",
   "metadata": {
    "colab": {
     "base_uri": "https://localhost:8080/",
     "height": 244
    },
    "execution": {
     "iopub.execute_input": "2021-12-02T13:56:44.916496Z",
     "iopub.status.busy": "2021-12-02T13:56:44.909439Z",
     "iopub.status.idle": "2021-12-02T13:56:44.922951Z",
     "shell.execute_reply": "2021-12-02T13:56:44.922296Z",
     "shell.execute_reply.started": "2021-12-02T12:27:29.099495Z"
    },
    "id": "8db46841",
    "outputId": "0daf8f99-fd55-4359-e85e-257081b6331e",
    "papermill": {
     "duration": 0.095807,
     "end_time": "2021-12-02T13:56:44.923142",
     "exception": false,
     "start_time": "2021-12-02T13:56:44.827335",
     "status": "completed"
    },
    "tags": []
   },
   "outputs": [
    {
     "data": {
      "text/html": [
       "<div>\n",
       "<style scoped>\n",
       "    .dataframe tbody tr th:only-of-type {\n",
       "        vertical-align: middle;\n",
       "    }\n",
       "\n",
       "    .dataframe tbody tr th {\n",
       "        vertical-align: top;\n",
       "    }\n",
       "\n",
       "    .dataframe thead th {\n",
       "        text-align: right;\n",
       "    }\n",
       "</style>\n",
       "<table border=\"1\" class=\"dataframe\">\n",
       "  <thead>\n",
       "    <tr style=\"text-align: right;\">\n",
       "      <th></th>\n",
       "      <th>age</th>\n",
       "      <th>hypertension</th>\n",
       "      <th>heart_disease</th>\n",
       "      <th>ever_married</th>\n",
       "      <th>Residence_type</th>\n",
       "      <th>avg_glucose_level</th>\n",
       "      <th>bmi</th>\n",
       "      <th>stroke</th>\n",
       "      <th>Female</th>\n",
       "      <th>Male</th>\n",
       "      <th>Other</th>\n",
       "      <th>Govt_job</th>\n",
       "      <th>Never_worked</th>\n",
       "      <th>Private</th>\n",
       "      <th>Self-employed</th>\n",
       "      <th>children</th>\n",
       "      <th>Unknown</th>\n",
       "      <th>formerly smoked</th>\n",
       "      <th>never smoked</th>\n",
       "      <th>smokes</th>\n",
       "    </tr>\n",
       "  </thead>\n",
       "  <tbody>\n",
       "    <tr>\n",
       "      <th>0</th>\n",
       "      <td>67.0</td>\n",
       "      <td>0.0</td>\n",
       "      <td>1.0</td>\n",
       "      <td>1.0</td>\n",
       "      <td>1.0</td>\n",
       "      <td>228.69</td>\n",
       "      <td>36.6</td>\n",
       "      <td>1.0</td>\n",
       "      <td>0.0</td>\n",
       "      <td>1.0</td>\n",
       "      <td>0.0</td>\n",
       "      <td>0.0</td>\n",
       "      <td>0.0</td>\n",
       "      <td>1.0</td>\n",
       "      <td>0.0</td>\n",
       "      <td>0.0</td>\n",
       "      <td>0.0</td>\n",
       "      <td>1.0</td>\n",
       "      <td>0.0</td>\n",
       "      <td>0.0</td>\n",
       "    </tr>\n",
       "    <tr>\n",
       "      <th>1</th>\n",
       "      <td>80.0</td>\n",
       "      <td>0.0</td>\n",
       "      <td>1.0</td>\n",
       "      <td>1.0</td>\n",
       "      <td>0.0</td>\n",
       "      <td>105.92</td>\n",
       "      <td>32.5</td>\n",
       "      <td>1.0</td>\n",
       "      <td>0.0</td>\n",
       "      <td>1.0</td>\n",
       "      <td>0.0</td>\n",
       "      <td>0.0</td>\n",
       "      <td>0.0</td>\n",
       "      <td>1.0</td>\n",
       "      <td>0.0</td>\n",
       "      <td>0.0</td>\n",
       "      <td>0.0</td>\n",
       "      <td>0.0</td>\n",
       "      <td>1.0</td>\n",
       "      <td>0.0</td>\n",
       "    </tr>\n",
       "    <tr>\n",
       "      <th>2</th>\n",
       "      <td>49.0</td>\n",
       "      <td>0.0</td>\n",
       "      <td>0.0</td>\n",
       "      <td>1.0</td>\n",
       "      <td>1.0</td>\n",
       "      <td>171.23</td>\n",
       "      <td>34.4</td>\n",
       "      <td>1.0</td>\n",
       "      <td>1.0</td>\n",
       "      <td>0.0</td>\n",
       "      <td>0.0</td>\n",
       "      <td>0.0</td>\n",
       "      <td>0.0</td>\n",
       "      <td>1.0</td>\n",
       "      <td>0.0</td>\n",
       "      <td>0.0</td>\n",
       "      <td>0.0</td>\n",
       "      <td>0.0</td>\n",
       "      <td>0.0</td>\n",
       "      <td>1.0</td>\n",
       "    </tr>\n",
       "    <tr>\n",
       "      <th>3</th>\n",
       "      <td>79.0</td>\n",
       "      <td>1.0</td>\n",
       "      <td>0.0</td>\n",
       "      <td>1.0</td>\n",
       "      <td>0.0</td>\n",
       "      <td>174.12</td>\n",
       "      <td>24.0</td>\n",
       "      <td>1.0</td>\n",
       "      <td>1.0</td>\n",
       "      <td>0.0</td>\n",
       "      <td>0.0</td>\n",
       "      <td>0.0</td>\n",
       "      <td>0.0</td>\n",
       "      <td>0.0</td>\n",
       "      <td>1.0</td>\n",
       "      <td>0.0</td>\n",
       "      <td>0.0</td>\n",
       "      <td>0.0</td>\n",
       "      <td>1.0</td>\n",
       "      <td>0.0</td>\n",
       "    </tr>\n",
       "    <tr>\n",
       "      <th>4</th>\n",
       "      <td>81.0</td>\n",
       "      <td>0.0</td>\n",
       "      <td>0.0</td>\n",
       "      <td>1.0</td>\n",
       "      <td>1.0</td>\n",
       "      <td>186.21</td>\n",
       "      <td>29.0</td>\n",
       "      <td>1.0</td>\n",
       "      <td>0.0</td>\n",
       "      <td>1.0</td>\n",
       "      <td>0.0</td>\n",
       "      <td>0.0</td>\n",
       "      <td>0.0</td>\n",
       "      <td>1.0</td>\n",
       "      <td>0.0</td>\n",
       "      <td>0.0</td>\n",
       "      <td>0.0</td>\n",
       "      <td>1.0</td>\n",
       "      <td>0.0</td>\n",
       "      <td>0.0</td>\n",
       "    </tr>\n",
       "  </tbody>\n",
       "</table>\n",
       "</div>"
      ],
      "text/plain": [
       "    age  hypertension  heart_disease  ever_married  Residence_type  \\\n",
       "0  67.0           0.0            1.0           1.0             1.0   \n",
       "1  80.0           0.0            1.0           1.0             0.0   \n",
       "2  49.0           0.0            0.0           1.0             1.0   \n",
       "3  79.0           1.0            0.0           1.0             0.0   \n",
       "4  81.0           0.0            0.0           1.0             1.0   \n",
       "\n",
       "   avg_glucose_level   bmi  stroke  Female  Male  Other  Govt_job  \\\n",
       "0             228.69  36.6     1.0     0.0   1.0    0.0       0.0   \n",
       "1             105.92  32.5     1.0     0.0   1.0    0.0       0.0   \n",
       "2             171.23  34.4     1.0     1.0   0.0    0.0       0.0   \n",
       "3             174.12  24.0     1.0     1.0   0.0    0.0       0.0   \n",
       "4             186.21  29.0     1.0     0.0   1.0    0.0       0.0   \n",
       "\n",
       "   Never_worked  Private  Self-employed  children  Unknown  formerly smoked  \\\n",
       "0           0.0      1.0            0.0       0.0      0.0              1.0   \n",
       "1           0.0      1.0            0.0       0.0      0.0              0.0   \n",
       "2           0.0      1.0            0.0       0.0      0.0              0.0   \n",
       "3           0.0      0.0            1.0       0.0      0.0              0.0   \n",
       "4           0.0      1.0            0.0       0.0      0.0              1.0   \n",
       "\n",
       "   never smoked  smokes  \n",
       "0           0.0     0.0  \n",
       "1           1.0     0.0  \n",
       "2           0.0     1.0  \n",
       "3           1.0     0.0  \n",
       "4           0.0     0.0  "
      ]
     },
     "execution_count": 55,
     "metadata": {},
     "output_type": "execute_result"
    }
   ],
   "source": [
    "Stroke.head()"
   ]
  },
  {
   "cell_type": "code",
   "execution_count": 56,
   "id": "4277bd57",
   "metadata": {
    "colab": {
     "base_uri": "https://localhost:8080/"
    },
    "execution": {
     "iopub.execute_input": "2021-12-02T13:56:45.022998Z",
     "iopub.status.busy": "2021-12-02T13:56:45.021989Z",
     "iopub.status.idle": "2021-12-02T13:56:45.032962Z",
     "shell.execute_reply": "2021-12-02T13:56:45.033453Z",
     "shell.execute_reply.started": "2021-12-02T12:27:29.156260Z"
    },
    "id": "4277bd57",
    "outputId": "45451ce0-cc33-4e21-e08f-0fca75a20634",
    "papermill": {
     "duration": 0.063266,
     "end_time": "2021-12-02T13:56:45.033688",
     "exception": false,
     "start_time": "2021-12-02T13:56:44.970422",
     "status": "completed"
    },
    "tags": []
   },
   "outputs": [
    {
     "name": "stdout",
     "output_type": "stream",
     "text": [
      "<class 'pandas.core.frame.DataFrame'>\n",
      "RangeIndex: 4909 entries, 0 to 4908\n",
      "Data columns (total 20 columns):\n",
      " #   Column             Non-Null Count  Dtype  \n",
      "---  ------             --------------  -----  \n",
      " 0   age                4909 non-null   float64\n",
      " 1   hypertension       4909 non-null   float64\n",
      " 2   heart_disease      4909 non-null   float64\n",
      " 3   ever_married       4909 non-null   float64\n",
      " 4   Residence_type     4909 non-null   float64\n",
      " 5   avg_glucose_level  4909 non-null   float64\n",
      " 6   bmi                4909 non-null   float64\n",
      " 7   stroke             4909 non-null   float64\n",
      " 8   Female             4909 non-null   float64\n",
      " 9   Male               4909 non-null   float64\n",
      " 10  Other              4909 non-null   float64\n",
      " 11  Govt_job           4909 non-null   float64\n",
      " 12  Never_worked       4909 non-null   float64\n",
      " 13  Private            4909 non-null   float64\n",
      " 14  Self-employed      4909 non-null   float64\n",
      " 15  children           4909 non-null   float64\n",
      " 16  Unknown            4909 non-null   float64\n",
      " 17  formerly smoked    4909 non-null   float64\n",
      " 18  never smoked       4909 non-null   float64\n",
      " 19  smokes             4909 non-null   float64\n",
      "dtypes: float64(20)\n",
      "memory usage: 767.2 KB\n"
     ]
    }
   ],
   "source": [
    "Stroke.info()"
   ]
  },
  {
   "cell_type": "code",
   "execution_count": 57,
   "id": "ae88f8f9",
   "metadata": {
    "execution": {
     "iopub.execute_input": "2021-12-02T13:56:45.134520Z",
     "iopub.status.busy": "2021-12-02T13:56:45.133493Z",
     "iopub.status.idle": "2021-12-02T13:56:45.135783Z",
     "shell.execute_reply": "2021-12-02T13:56:45.136393Z",
     "shell.execute_reply.started": "2021-12-02T12:27:29.189431Z"
    },
    "id": "ae88f8f9",
    "papermill": {
     "duration": 0.05462,
     "end_time": "2021-12-02T13:56:45.136566",
     "exception": false,
     "start_time": "2021-12-02T13:56:45.081946",
     "status": "completed"
    },
    "tags": []
   },
   "outputs": [],
   "source": [
    "#EDA"
   ]
  },
  {
   "cell_type": "code",
   "execution_count": 58,
   "id": "658cba58",
   "metadata": {
    "execution": {
     "iopub.execute_input": "2021-12-02T13:56:45.235624Z",
     "iopub.status.busy": "2021-12-02T13:56:45.234606Z",
     "iopub.status.idle": "2021-12-02T13:56:47.479110Z",
     "shell.execute_reply": "2021-12-02T13:56:47.479625Z",
     "shell.execute_reply.started": "2021-12-02T12:27:29.205560Z"
    },
    "id": "658cba58",
    "outputId": "88300217-aeac-4797-a431-e33461a9f73c",
    "papermill": {
     "duration": 2.29525,
     "end_time": "2021-12-02T13:56:47.479809",
     "exception": false,
     "start_time": "2021-12-02T13:56:45.184559",
     "status": "completed"
    },
    "tags": []
   },
   "outputs": [
    {
     "data": {
      "image/png": "[encoded data removed]",
      "text/plain": [
       "<Figure size 1440x1080 with 2 Axes>"
      ]
     },
     "metadata": {
      "needs_background": "light"
     },
     "output_type": "display_data"
    }
   ],
   "source": [
    "plt.figure(figsize=(20,15))\n",
    "sns.heatmap(Stroke.corr(),annot=True)\n",
    "plt.show()"
   ]
  },
  {
   "cell_type": "code",
   "execution_count": 59,
   "id": "c4930d22",
   "metadata": {
    "execution": {
     "iopub.execute_input": "2021-12-02T13:56:47.590775Z",
     "iopub.status.busy": "2021-12-02T13:56:47.590077Z",
     "iopub.status.idle": "2021-12-02T13:56:47.593888Z",
     "shell.execute_reply": "2021-12-02T13:56:47.593221Z",
     "shell.execute_reply.started": "2021-12-02T12:27:31.180856Z"
    },
    "id": "c4930d22",
    "papermill": {
     "duration": 0.060791,
     "end_time": "2021-12-02T13:56:47.594060",
     "exception": false,
     "start_time": "2021-12-02T13:56:47.533269",
     "status": "completed"
    },
    "tags": []
   },
   "outputs": [],
   "source": [
    "#Stroke has a relatively high correlation compared to the other variables with Age, hypertension, heart disease, glucose level \n",
    "#and marrital status. "
   ]
  },
  {
   "cell_type": "code",
   "execution_count": 60,
   "id": "5b1150db",
   "metadata": {
    "execution": {
     "iopub.execute_input": "2021-12-02T13:56:47.711426Z",
     "iopub.status.busy": "2021-12-02T13:56:47.710563Z",
     "iopub.status.idle": "2021-12-02T13:56:47.980758Z",
     "shell.execute_reply": "2021-12-02T13:56:47.980088Z",
     "shell.execute_reply.started": "2021-12-02T12:27:31.186105Z"
    },
    "id": "5b1150db",
    "outputId": "5ea0f3b9-bfa5-4b26-a3cd-bcfc7b3bff4b",
    "papermill": {
     "duration": 0.332527,
     "end_time": "2021-12-02T13:56:47.980902",
     "exception": false,
     "start_time": "2021-12-02T13:56:47.648375",
     "status": "completed"
    },
    "tags": []
   },
   "outputs": [
    {
     "data": {
      "image/png": "[encoded data removed]",
      "text/plain": [
       "<Figure size 720x360 with 1 Axes>"
      ]
     },
     "metadata": {
      "needs_background": "light"
     },
     "output_type": "display_data"
    }
   ],
   "source": [
    "plt.figure(figsize=(10,5))\n",
    "sns.barplot(x='stroke',y='age',data=Stroke)\n",
    "plt.show()"
   ]
  },
  {
   "cell_type": "code",
   "execution_count": 61,
   "id": "6fb20bba",
   "metadata": {
    "execution": {
     "iopub.execute_input": "2021-12-02T13:56:48.094792Z",
     "iopub.status.busy": "2021-12-02T13:56:48.094108Z",
     "iopub.status.idle": "2021-12-02T13:56:48.367574Z",
     "shell.execute_reply": "2021-12-02T13:56:48.368185Z",
     "shell.execute_reply.started": "2021-12-02T12:27:31.435601Z"
    },
    "id": "6fb20bba",
    "outputId": "e388ea45-ce4c-414d-bd50-64441f9c5ea4",
    "papermill": {
     "duration": 0.332671,
     "end_time": "2021-12-02T13:56:48.368363",
     "exception": false,
     "start_time": "2021-12-02T13:56:48.035692",
     "status": "completed"
    },
    "tags": []
   },
   "outputs": [
    {
     "data": {
      "image/png": "[encoded data removed]",
      "text/plain": [
       "<Figure size 720x360 with 1 Axes>"
      ]
     },
     "metadata": {
      "needs_background": "light"
     },
     "output_type": "display_data"
    }
   ],
   "source": [
    "plt.figure(figsize=(10,5))\n",
    "sns.barplot(x='stroke',y='avg_glucose_level',data=Stroke)\n",
    "plt.show()"
   ]
  },
  {
   "cell_type": "code",
   "execution_count": 62,
   "id": "3b543b2c",
   "metadata": {
    "execution": {
     "iopub.execute_input": "2021-12-02T13:56:48.487638Z",
     "iopub.status.busy": "2021-12-02T13:56:48.486841Z",
     "iopub.status.idle": "2021-12-02T13:56:48.757341Z",
     "shell.execute_reply": "2021-12-02T13:56:48.757864Z",
     "shell.execute_reply.started": "2021-12-02T12:27:31.676139Z"
    },
    "id": "3b543b2c",
    "outputId": "3ea1709e-6c10-444f-b677-4c0134fb4e30",
    "papermill": {
     "duration": 0.332424,
     "end_time": "2021-12-02T13:56:48.758077",
     "exception": false,
     "start_time": "2021-12-02T13:56:48.425653",
     "status": "completed"
    },
    "tags": []
   },
   "outputs": [
    {
     "data": {
      "image/png": "[encoded data removed]",
      "text/plain": [
       "<Figure size 720x360 with 1 Axes>"
      ]
     },
     "metadata": {
      "needs_background": "light"
     },
     "output_type": "display_data"
    }
   ],
   "source": [
    "plt.figure(figsize=(10,5))\n",
    "sns.barplot(x='stroke',y='bmi',data=Stroke)\n",
    "plt.show()"
   ]
  },
  {
   "cell_type": "code",
   "execution_count": 63,
   "id": "d01c4813",
   "metadata": {
    "execution": {
     "iopub.execute_input": "2021-12-02T13:56:48.876921Z",
     "iopub.status.busy": "2021-12-02T13:56:48.876255Z",
     "iopub.status.idle": "2021-12-02T13:56:49.082113Z",
     "shell.execute_reply": "2021-12-02T13:56:49.081423Z",
     "shell.execute_reply.started": "2021-12-02T12:27:31.906676Z"
    },
    "id": "d01c4813",
    "outputId": "63aaba31-df82-41b8-c082-43c585d92e5f",
    "papermill": {
     "duration": 0.264888,
     "end_time": "2021-12-02T13:56:49.082266",
     "exception": false,
     "start_time": "2021-12-02T13:56:48.817378",
     "status": "completed"
    },
    "tags": []
   },
   "outputs": [
    {
     "data": {
      "image/png": "[encoded data removed]",
      "text/plain": [
       "<Figure size 720x360 with 1 Axes>"
      ]
     },
     "metadata": {
      "needs_background": "light"
     },
     "output_type": "display_data"
    }
   ],
   "source": [
    "plt.figure(figsize=(10,5))\n",
    "sns.countplot(x='stroke',hue='heart_disease',data=Stroke)\n",
    "plt.show()"
   ]
  },
  {
   "cell_type": "code",
   "execution_count": 64,
   "id": "3d32c0b0",
   "metadata": {
    "execution": {
     "iopub.execute_input": "2021-12-02T13:56:49.205491Z",
     "iopub.status.busy": "2021-12-02T13:56:49.204647Z",
     "iopub.status.idle": "2021-12-02T13:56:49.407843Z",
     "shell.execute_reply": "2021-12-02T13:56:49.407326Z",
     "shell.execute_reply.started": "2021-12-02T12:27:32.088743Z"
    },
    "id": "3d32c0b0",
    "outputId": "6c3ea59d-7bf7-4d30-ec3d-ed25ad55520a",
    "papermill": {
     "duration": 0.267371,
     "end_time": "2021-12-02T13:56:49.407992",
     "exception": false,
     "start_time": "2021-12-02T13:56:49.140621",
     "status": "completed"
    },
    "tags": []
   },
   "outputs": [
    {
     "data": {
      "image/png": "[encoded data removed]",
      "text/plain": [
       "<Figure size 720x360 with 1 Axes>"
      ]
     },
     "metadata": {
      "needs_background": "light"
     },
     "output_type": "display_data"
    }
   ],
   "source": [
    "plt.figure(figsize=(10,5))\n",
    "sns.countplot(x='stroke',hue='ever_married',data=Stroke)\n",
    "plt.show()"
   ]
  },
  {
   "cell_type": "code",
   "execution_count": 65,
   "id": "32f46a24",
   "metadata": {
    "execution": {
     "iopub.execute_input": "2021-12-02T13:56:49.529209Z",
     "iopub.status.busy": "2021-12-02T13:56:49.528464Z",
     "iopub.status.idle": "2021-12-02T13:56:49.748943Z",
     "shell.execute_reply": "2021-12-02T13:56:49.748393Z",
     "shell.execute_reply.started": "2021-12-02T12:27:32.282897Z"
    },
    "id": "32f46a24",
    "outputId": "b250ca1f-8314-4188-a9e8-e19c01a2c5df",
    "papermill": {
     "duration": 0.28297,
     "end_time": "2021-12-02T13:56:49.749110",
     "exception": false,
     "start_time": "2021-12-02T13:56:49.466140",
     "status": "completed"
    },
    "tags": []
   },
   "outputs": [
    {
     "data": {
      "image/png": "[encoded data removed]",
      "text/plain": [
       "<Figure size 720x360 with 1 Axes>"
      ]
     },
     "metadata": {
      "needs_background": "light"
     },
     "output_type": "display_data"
    }
   ],
   "source": [
    "plt.figure(figsize=(10,5))\n",
    "sns.countplot(x='stroke',hue='children',data=Stroke)\n",
    "plt.show()"
   ]
  },
  {
   "cell_type": "code",
   "execution_count": 66,
   "id": "f0ed5282",
   "metadata": {
    "execution": {
     "iopub.execute_input": "2021-12-02T13:56:49.867440Z",
     "iopub.status.busy": "2021-12-02T13:56:49.866780Z",
     "iopub.status.idle": "2021-12-02T13:56:49.870182Z",
     "shell.execute_reply": "2021-12-02T13:56:49.870826Z",
     "shell.execute_reply.started": "2021-12-02T12:27:32.484087Z"
    },
    "id": "f0ed5282",
    "papermill": {
     "duration": 0.064265,
     "end_time": "2021-12-02T13:56:49.871006",
     "exception": false,
     "start_time": "2021-12-02T13:56:49.806741",
     "status": "completed"
    },
    "tags": []
   },
   "outputs": [],
   "source": [
    "#Strokes occur with higher age and glucose level as well as bmi to a much lower degree. "
   ]
  },
  {
   "cell_type": "code",
   "execution_count": 67,
   "id": "76836881",
   "metadata": {
    "execution": {
     "iopub.execute_input": "2021-12-02T13:56:49.991582Z",
     "iopub.status.busy": "2021-12-02T13:56:49.990895Z",
     "iopub.status.idle": "2021-12-02T13:56:51.036211Z",
     "shell.execute_reply": "2021-12-02T13:56:51.036811Z",
     "shell.execute_reply.started": "2021-12-02T12:27:32.489518Z"
    },
    "id": "76836881",
    "outputId": "88898e55-bd3f-4cd3-c9b3-93d7e1c61749",
    "papermill": {
     "duration": 1.108071,
     "end_time": "2021-12-02T13:56:51.037004",
     "exception": false,
     "start_time": "2021-12-02T13:56:49.928933",
     "status": "completed"
    },
    "tags": []
   },
   "outputs": [
    {
     "data": {
      "image/png": "[encoded data removed]",
      "text/plain": [
       "<Figure size 1440x720 with 4 Axes>"
      ]
     },
     "metadata": {
      "needs_background": "light"
     },
     "output_type": "display_data"
    }
   ],
   "source": [
    "plt.figure(figsize=(20,10))\n",
    "plt.subplot(2,2,1)\n",
    "sns.barplot(x='stroke',y='Private',data=Stroke)\n",
    "plt.subplot(2,2,2)\n",
    "sns.barplot(x='stroke',y='Self-employed',data=Stroke)\n",
    "plt.subplot(2,2,3)\n",
    "sns.barplot(x='stroke',y='Govt_job',data=Stroke)\n",
    "plt.subplot(2,2,4)\n",
    "sns.barplot(x='stroke',y='Never_worked',data=Stroke)\n",
    "plt.show()"
   ]
  },
  {
   "cell_type": "code",
   "execution_count": 68,
   "id": "12deb863",
   "metadata": {
    "execution": {
     "iopub.execute_input": "2021-12-02T13:56:51.159238Z",
     "iopub.status.busy": "2021-12-02T13:56:51.158534Z",
     "iopub.status.idle": "2021-12-02T13:56:51.161910Z",
     "shell.execute_reply": "2021-12-02T13:56:51.162527Z",
     "shell.execute_reply.started": "2021-12-02T12:27:33.376711Z"
    },
    "id": "12deb863",
    "papermill": {
     "duration": 0.065588,
     "end_time": "2021-12-02T13:56:51.162703",
     "exception": false,
     "start_time": "2021-12-02T13:56:51.097115",
     "status": "completed"
    },
    "tags": []
   },
   "outputs": [],
   "source": [
    "#Greater occurance of stroke when self emplyed or private. "
   ]
  },
  {
   "cell_type": "code",
   "execution_count": 69,
   "id": "10913558",
   "metadata": {
    "execution": {
     "iopub.execute_input": "2021-12-02T13:56:51.284334Z",
     "iopub.status.busy": "2021-12-02T13:56:51.283680Z",
     "iopub.status.idle": "2021-12-02T13:56:52.148153Z",
     "shell.execute_reply": "2021-12-02T13:56:52.147562Z",
     "shell.execute_reply.started": "2021-12-02T12:27:33.382257Z"
    },
    "id": "10913558",
    "outputId": "481e4ae1-8ad0-4270-f4d3-cb3390fa6f8c",
    "papermill": {
     "duration": 0.92643,
     "end_time": "2021-12-02T13:56:52.148310",
     "exception": false,
     "start_time": "2021-12-02T13:56:51.221880",
     "status": "completed"
    },
    "tags": []
   },
   "outputs": [
    {
     "data": {
      "image/png": "[encoded data removed]",
      "text/plain": [
       "<Figure size 1440x720 with 4 Axes>"
      ]
     },
     "metadata": {
      "needs_background": "light"
     },
     "output_type": "display_data"
    }
   ],
   "source": [
    "plt.figure(figsize=(20,10))\n",
    "plt.subplot(2,2,1)\n",
    "sns.barplot(x='stroke',y='smokes',data=Stroke)\n",
    "plt.subplot(2,2,2)\n",
    "sns.barplot(x='stroke',y='formerly smoked',data=Stroke)\n",
    "plt.subplot(2,2,3)\n",
    "sns.barplot(x='stroke',y='never smoked',data=Stroke)\n",
    "plt.subplot(2,2,4)\n",
    "sns.barplot(x='stroke',y='Unknown',data=Stroke)\n",
    "plt.show()"
   ]
  },
  {
   "cell_type": "code",
   "execution_count": 70,
   "id": "af2177d8",
   "metadata": {
    "execution": {
     "iopub.execute_input": "2021-12-02T13:56:52.272814Z",
     "iopub.status.busy": "2021-12-02T13:56:52.272130Z",
     "iopub.status.idle": "2021-12-02T13:56:52.274814Z",
     "shell.execute_reply": "2021-12-02T13:56:52.274291Z",
     "shell.execute_reply.started": "2021-12-02T12:27:34.113467Z"
    },
    "id": "af2177d8",
    "papermill": {
     "duration": 0.06686,
     "end_time": "2021-12-02T13:56:52.274973",
     "exception": false,
     "start_time": "2021-12-02T13:56:52.208113",
     "status": "completed"
    },
    "tags": []
   },
   "outputs": [],
   "source": [
    "#greater occurance of stroke when smokes and formerly smoked. However between the two greater occurance when the person has \n",
    "#formery smoked"
   ]
  },
  {
   "cell_type": "code",
   "execution_count": 71,
   "id": "d7931da5",
   "metadata": {
    "execution": {
     "iopub.execute_input": "2021-12-02T13:56:52.404983Z",
     "iopub.status.busy": "2021-12-02T13:56:52.404198Z",
     "iopub.status.idle": "2021-12-02T13:56:52.406918Z",
     "shell.execute_reply": "2021-12-02T13:56:52.407472Z",
     "shell.execute_reply.started": "2021-12-02T12:27:34.118538Z"
    },
    "id": "d7931da5",
    "outputId": "0598434b-fcc8-40e5-d33c-23d00cff3a08",
    "papermill": {
     "duration": 0.071941,
     "end_time": "2021-12-02T13:56:52.407666",
     "exception": false,
     "start_time": "2021-12-02T13:56:52.335725",
     "status": "completed"
    },
    "tags": []
   },
   "outputs": [
    {
     "data": {
      "text/plain": [
       "0.0    4700\n",
       "1.0     209\n",
       "Name: stroke, dtype: int64"
      ]
     },
     "execution_count": 71,
     "metadata": {},
     "output_type": "execute_result"
    }
   ],
   "source": [
    "Stroke['stroke'].value_counts()"
   ]
  },
  {
   "cell_type": "code",
   "execution_count": 72,
   "id": "671518ba",
   "metadata": {
    "execution": {
     "iopub.execute_input": "2021-12-02T13:56:52.531688Z",
     "iopub.status.busy": "2021-12-02T13:56:52.530984Z",
     "iopub.status.idle": "2021-12-02T13:56:52.533930Z",
     "shell.execute_reply": "2021-12-02T13:56:52.534458Z",
     "shell.execute_reply.started": "2021-12-02T12:27:34.139162Z"
    },
    "id": "671518ba",
    "papermill": {
     "duration": 0.06668,
     "end_time": "2021-12-02T13:56:52.534648",
     "exception": false,
     "start_time": "2021-12-02T13:56:52.467968",
     "status": "completed"
    },
    "tags": []
   },
   "outputs": [],
   "source": [
    "#Prediction"
   ]
  },
  {
   "cell_type": "code",
   "execution_count": 73,
   "id": "40de6a0b",
   "metadata": {
    "execution": {
     "iopub.execute_input": "2021-12-02T13:56:52.661317Z",
     "iopub.status.busy": "2021-12-02T13:56:52.660583Z",
     "iopub.status.idle": "2021-12-02T13:56:52.696976Z",
     "shell.execute_reply": "2021-12-02T13:56:52.696370Z",
     "shell.execute_reply.started": "2021-12-02T12:27:34.148891Z"
    },
    "id": "40de6a0b",
    "outputId": "34119f81-43f8-4267-d707-7c5d5005f145",
    "papermill": {
     "duration": 0.101289,
     "end_time": "2021-12-02T13:56:52.697152",
     "exception": false,
     "start_time": "2021-12-02T13:56:52.595863",
     "status": "completed"
    },
    "tags": []
   },
   "outputs": [
    {
     "data": {
      "text/html": [
       "<div>\n",
       "<style scoped>\n",
       "    .dataframe tbody tr th:only-of-type {\n",
       "        vertical-align: middle;\n",
       "    }\n",
       "\n",
       "    .dataframe tbody tr th {\n",
       "        vertical-align: top;\n",
       "    }\n",
       "\n",
       "    .dataframe thead th {\n",
       "        text-align: right;\n",
       "    }\n",
       "</style>\n",
       "<table border=\"1\" class=\"dataframe\">\n",
       "  <thead>\n",
       "    <tr style=\"text-align: right;\">\n",
       "      <th></th>\n",
       "      <th>age</th>\n",
       "      <th>hypertension</th>\n",
       "      <th>heart_disease</th>\n",
       "      <th>ever_married</th>\n",
       "      <th>Residence_type</th>\n",
       "      <th>avg_glucose_level</th>\n",
       "      <th>bmi</th>\n",
       "      <th>Female</th>\n",
       "      <th>Male</th>\n",
       "      <th>Other</th>\n",
       "      <th>Govt_job</th>\n",
       "      <th>Never_worked</th>\n",
       "      <th>Private</th>\n",
       "      <th>Self-employed</th>\n",
       "      <th>children</th>\n",
       "      <th>Unknown</th>\n",
       "      <th>formerly smoked</th>\n",
       "      <th>never smoked</th>\n",
       "      <th>smokes</th>\n",
       "    </tr>\n",
       "  </thead>\n",
       "  <tbody>\n",
       "    <tr>\n",
       "      <th>3160</th>\n",
       "      <td>2.0</td>\n",
       "      <td>0.0</td>\n",
       "      <td>0.0</td>\n",
       "      <td>0.0</td>\n",
       "      <td>1.0</td>\n",
       "      <td>105.05</td>\n",
       "      <td>20.4</td>\n",
       "      <td>1.0</td>\n",
       "      <td>0.0</td>\n",
       "      <td>0.0</td>\n",
       "      <td>0.0</td>\n",
       "      <td>0.0</td>\n",
       "      <td>0.0</td>\n",
       "      <td>0.0</td>\n",
       "      <td>1.0</td>\n",
       "      <td>1.0</td>\n",
       "      <td>0.0</td>\n",
       "      <td>0.0</td>\n",
       "      <td>0.0</td>\n",
       "    </tr>\n",
       "    <tr>\n",
       "      <th>1439</th>\n",
       "      <td>32.0</td>\n",
       "      <td>0.0</td>\n",
       "      <td>0.0</td>\n",
       "      <td>0.0</td>\n",
       "      <td>0.0</td>\n",
       "      <td>67.92</td>\n",
       "      <td>22.8</td>\n",
       "      <td>1.0</td>\n",
       "      <td>0.0</td>\n",
       "      <td>0.0</td>\n",
       "      <td>0.0</td>\n",
       "      <td>0.0</td>\n",
       "      <td>1.0</td>\n",
       "      <td>0.0</td>\n",
       "      <td>0.0</td>\n",
       "      <td>0.0</td>\n",
       "      <td>0.0</td>\n",
       "      <td>0.0</td>\n",
       "      <td>1.0</td>\n",
       "    </tr>\n",
       "    <tr>\n",
       "      <th>1487</th>\n",
       "      <td>54.0</td>\n",
       "      <td>0.0</td>\n",
       "      <td>0.0</td>\n",
       "      <td>1.0</td>\n",
       "      <td>1.0</td>\n",
       "      <td>65.49</td>\n",
       "      <td>34.7</td>\n",
       "      <td>1.0</td>\n",
       "      <td>0.0</td>\n",
       "      <td>0.0</td>\n",
       "      <td>0.0</td>\n",
       "      <td>0.0</td>\n",
       "      <td>1.0</td>\n",
       "      <td>0.0</td>\n",
       "      <td>0.0</td>\n",
       "      <td>1.0</td>\n",
       "      <td>0.0</td>\n",
       "      <td>0.0</td>\n",
       "      <td>0.0</td>\n",
       "    </tr>\n",
       "    <tr>\n",
       "      <th>1993</th>\n",
       "      <td>55.0</td>\n",
       "      <td>0.0</td>\n",
       "      <td>0.0</td>\n",
       "      <td>1.0</td>\n",
       "      <td>1.0</td>\n",
       "      <td>76.51</td>\n",
       "      <td>34.7</td>\n",
       "      <td>0.0</td>\n",
       "      <td>1.0</td>\n",
       "      <td>0.0</td>\n",
       "      <td>0.0</td>\n",
       "      <td>0.0</td>\n",
       "      <td>1.0</td>\n",
       "      <td>0.0</td>\n",
       "      <td>0.0</td>\n",
       "      <td>1.0</td>\n",
       "      <td>0.0</td>\n",
       "      <td>0.0</td>\n",
       "      <td>0.0</td>\n",
       "    </tr>\n",
       "    <tr>\n",
       "      <th>2697</th>\n",
       "      <td>43.0</td>\n",
       "      <td>0.0</td>\n",
       "      <td>0.0</td>\n",
       "      <td>1.0</td>\n",
       "      <td>0.0</td>\n",
       "      <td>142.12</td>\n",
       "      <td>28.4</td>\n",
       "      <td>1.0</td>\n",
       "      <td>0.0</td>\n",
       "      <td>0.0</td>\n",
       "      <td>0.0</td>\n",
       "      <td>0.0</td>\n",
       "      <td>1.0</td>\n",
       "      <td>0.0</td>\n",
       "      <td>0.0</td>\n",
       "      <td>0.0</td>\n",
       "      <td>0.0</td>\n",
       "      <td>0.0</td>\n",
       "      <td>1.0</td>\n",
       "    </tr>\n",
       "  </tbody>\n",
       "</table>\n",
       "</div>"
      ],
      "text/plain": [
       "       age  hypertension  heart_disease  ever_married  Residence_type  \\\n",
       "3160   2.0           0.0            0.0           0.0             1.0   \n",
       "1439  32.0           0.0            0.0           0.0             0.0   \n",
       "1487  54.0           0.0            0.0           1.0             1.0   \n",
       "1993  55.0           0.0            0.0           1.0             1.0   \n",
       "2697  43.0           0.0            0.0           1.0             0.0   \n",
       "\n",
       "      avg_glucose_level   bmi  Female  Male  Other  Govt_job  Never_worked  \\\n",
       "3160             105.05  20.4     1.0   0.0    0.0       0.0           0.0   \n",
       "1439              67.92  22.8     1.0   0.0    0.0       0.0           0.0   \n",
       "1487              65.49  34.7     1.0   0.0    0.0       0.0           0.0   \n",
       "1993              76.51  34.7     0.0   1.0    0.0       0.0           0.0   \n",
       "2697             142.12  28.4     1.0   0.0    0.0       0.0           0.0   \n",
       "\n",
       "      Private  Self-employed  children  Unknown  formerly smoked  \\\n",
       "3160      0.0            0.0       1.0      1.0              0.0   \n",
       "1439      1.0            0.0       0.0      0.0              0.0   \n",
       "1487      1.0            0.0       0.0      1.0              0.0   \n",
       "1993      1.0            0.0       0.0      1.0              0.0   \n",
       "2697      1.0            0.0       0.0      0.0              0.0   \n",
       "\n",
       "      never smoked  smokes  \n",
       "3160           0.0     0.0  \n",
       "1439           0.0     1.0  \n",
       "1487           0.0     0.0  \n",
       "1993           0.0     0.0  \n",
       "2697           0.0     1.0  "
      ]
     },
     "execution_count": 73,
     "metadata": {},
     "output_type": "execute_result"
    }
   ],
   "source": [
    "X = Stroke.drop('stroke',axis=1)\n",
    "y = Stroke['stroke']\n",
    "from sklearn.model_selection import train_test_split\n",
    "X_train, X_test, y_train, y_test = train_test_split(X,y,train_size=0.7,random_state=100)\n",
    "X_train.head()"
   ]
  },
  {
   "cell_type": "code",
   "execution_count": 74,
   "id": "ac775319",
   "metadata": {
    "execution": {
     "iopub.execute_input": "2021-12-02T13:56:52.823029Z",
     "iopub.status.busy": "2021-12-02T13:56:52.822401Z",
     "iopub.status.idle": "2021-12-02T13:56:52.877229Z",
     "shell.execute_reply": "2021-12-02T13:56:52.876508Z",
     "shell.execute_reply.started": "2021-12-02T12:27:34.184686Z"
    },
    "id": "ac775319",
    "papermill": {
     "duration": 0.11824,
     "end_time": "2021-12-02T13:56:52.877386",
     "exception": false,
     "start_time": "2021-12-02T13:56:52.759146",
     "status": "completed"
    },
    "tags": []
   },
   "outputs": [],
   "source": [
    "from sklearn.ensemble import RandomForestClassifier \n",
    "from sklearn.model_selection import GridSearchCV"
   ]
  },
  {
   "cell_type": "code",
   "execution_count": null,
   "id": "c25a79ae",
   "metadata": {
    "execution": {
     "iopub.execute_input": "2021-12-02T13:56:53.010821Z",
     "iopub.status.busy": "2021-12-02T13:56:53.010091Z",
     "iopub.status.idle": "2021-12-02T14:46:05.944518Z",
     "shell.execute_reply": "2021-12-02T14:46:05.943757Z",
     "shell.execute_reply.started": "2021-12-02T12:27:34.205846Z"
    },
    "id": "c25a79ae",
    "outputId": "23b6e4ba-6c54-455e-dd9b-ff3a287eb40b",
    "papermill": {
     "duration": 2953.005142,
     "end_time": "2021-12-02T14:46:05.944695",
     "exception": false,
     "start_time": "2021-12-02T13:56:52.939553",
     "status": "completed"
    },
    "tags": []
   },
   "outputs": [],
   "source": [
    "Model = RandomForestClassifier(random_state=100,n_jobs=-1,class_weight='balanced')\n",
    "\n",
    "params = {'n_estimators':[50,100,200],\n",
    "          'min_samples_leaf':[10,30,50,70,100,200],\n",
    "          'max_depth':[3,5,10,20,40,60,100],\n",
    "          'max_features':[0.2,0.25,0.3,0.35,0.4,0.45,0.5,0.55,0.6,0.65,0.7],\n",
    "          'criterion':[\"gini\",\"entropy\"]}\n",
    "\n",
    "grid_search = GridSearchCV(estimator=Model,param_grid=params,verbose=1,n_jobs=-1,scoring='recall')\n",
    "grid_search.fit(X_train,y_train)"
   ]
  },
  {
   "cell_type": "code",
   "execution_count": null,
   "id": "753f8063",
   "metadata": {
    "execution": {
     "iopub.execute_input": "2021-12-02T14:46:06.087956Z",
     "iopub.status.busy": "2021-12-02T14:46:06.086862Z",
     "iopub.status.idle": "2021-12-02T14:46:06.089290Z",
     "shell.execute_reply": "2021-12-02T14:46:06.089887Z",
     "shell.execute_reply.started": "2021-12-02T13:09:08.734709Z"
    },
    "id": "753f8063",
    "papermill": {
     "duration": 0.076702,
     "end_time": "2021-12-02T14:46:06.090105",
     "exception": false,
     "start_time": "2021-12-02T14:46:06.013403",
     "status": "completed"
    },
    "tags": []
   },
   "outputs": [],
   "source": [
    "Model_best = grid_search.best_estimator_"
   ]
  },
  {
   "cell_type": "code",
   "execution_count": null,
   "id": "730aecd6",
   "metadata": {
    "execution": {
     "iopub.execute_input": "2021-12-02T14:46:06.228792Z",
     "iopub.status.busy": "2021-12-02T14:46:06.226677Z",
     "iopub.status.idle": "2021-12-02T14:46:06.231630Z",
     "shell.execute_reply": "2021-12-02T14:46:06.231067Z",
     "shell.execute_reply.started": "2021-12-02T13:09:08.742299Z"
    },
    "id": "730aecd6",
    "papermill": {
     "duration": 0.074992,
     "end_time": "2021-12-02T14:46:06.231769",
     "exception": false,
     "start_time": "2021-12-02T14:46:06.156777",
     "status": "completed"
    },
    "tags": []
   },
   "outputs": [],
   "source": [
    "from sklearn.metrics import f1_score,recall_score,plot_roc_curve"
   ]
  },
  {
   "cell_type": "code",
   "execution_count": null,
   "id": "9c20f6e8",
   "metadata": {
    "execution": {
     "iopub.execute_input": "2021-12-02T14:46:06.370352Z",
     "iopub.status.busy": "2021-12-02T14:46:06.369642Z",
     "iopub.status.idle": "2021-12-02T14:46:06.856810Z",
     "shell.execute_reply": "2021-12-02T14:46:06.857290Z",
     "shell.execute_reply.started": "2021-12-02T13:09:08.756652Z"
    },
    "id": "9c20f6e8",
    "outputId": "a55c98fe-bce1-4af7-d980-a8a14a2a95c6",
    "papermill": {
     "duration": 0.558222,
     "end_time": "2021-12-02T14:46:06.857469",
     "exception": false,
     "start_time": "2021-12-02T14:46:06.299247",
     "status": "completed"
    },
    "tags": []
   },
   "outputs": [],
   "source": [
    "plot_roc_curve(Model_best,X_train,y_train)\n",
    "y_train_pred = Model_best.predict(X_train)\n",
    "\n",
    "print(f1_score(y_train,y_train_pred))\n",
    "print(recall_score(y_train,y_train_pred))"
   ]
  },
  {
   "cell_type": "code",
   "execution_count": null,
   "id": "f64bbaea",
   "metadata": {
    "execution": {
     "iopub.execute_input": "2021-12-02T14:46:07.001820Z",
     "iopub.status.busy": "2021-12-02T14:46:07.000944Z",
     "iopub.status.idle": "2021-12-02T14:46:07.454922Z",
     "shell.execute_reply": "2021-12-02T14:46:07.455416Z",
     "shell.execute_reply.started": "2021-12-02T13:09:09.212912Z"
    },
    "id": "f64bbaea",
    "outputId": "d2d03aec-62c4-4eb9-e4ff-5a756b4aa934",
    "papermill": {
     "duration": 0.530493,
     "end_time": "2021-12-02T14:46:07.455597",
     "exception": false,
     "start_time": "2021-12-02T14:46:06.925104",
     "status": "completed"
    },
    "tags": []
   },
   "outputs": [],
   "source": [
    "plot_roc_curve(Model_best,X_test,y_test)\n",
    "y_test_pred = Model_best.predict(X_test)\n",
    "\n",
    "print(f1_score(y_test,y_test_pred))\n",
    "print(recall_score(y_test,y_test_pred))"
   ]
  },
  {
   "cell_type": "code",
   "execution_count": null,
   "id": "cc0f775b",
   "metadata": {
    "execution": {
     "iopub.execute_input": "2021-12-02T14:46:07.602870Z",
     "iopub.status.busy": "2021-12-02T14:46:07.602055Z",
     "iopub.status.idle": "2021-12-02T15:37:01.797461Z",
     "shell.execute_reply": "2021-12-02T15:37:01.796869Z",
     "shell.execute_reply.started": "2021-12-02T13:09:09.648955Z"
    },
    "id": "cc0f775b",
    "outputId": "df2205a9-1906-4e65-c432-0335212a58e0",
    "papermill": {
     "duration": 3054.273471,
     "end_time": "2021-12-02T15:37:01.797622",
     "exception": false,
     "start_time": "2021-12-02T14:46:07.524151",
     "status": "completed"
    },
    "tags": []
   },
   "outputs": [],
   "source": [
    "Model = RandomForestClassifier(random_state=100,n_jobs=-1,class_weight='balanced')\n",
    "\n",
    "params = {'n_estimators':[50,100,200],\n",
    "          'min_samples_leaf':[10,30,50,70,100,200],\n",
    "          'max_depth':[3,5,10,20,40,60,100],\n",
    "          'max_features':[0.2,0.25,0.3,0.35,0.4,0.45,0.5,0.55,0.6,0.65,0.7],\n",
    "          'criterion':[\"gini\",\"entropy\"]}\n",
    "\n",
    "grid_search = GridSearchCV(estimator=Model,param_grid=params,verbose=1,n_jobs=-1,scoring='f1')\n",
    "grid_search.fit(X_train,y_train)"
   ]
  },
  {
   "cell_type": "code",
   "execution_count": null,
   "id": "36fdcb5a",
   "metadata": {
    "execution": {
     "iopub.execute_input": "2021-12-02T15:37:01.955762Z",
     "iopub.status.busy": "2021-12-02T15:37:01.955012Z",
     "iopub.status.idle": "2021-12-02T15:37:01.958889Z",
     "shell.execute_reply": "2021-12-02T15:37:01.959479Z",
     "shell.execute_reply.started": "2021-12-02T13:51:04.874351Z"
    },
    "id": "36fdcb5a",
    "papermill": {
     "duration": 0.084932,
     "end_time": "2021-12-02T15:37:01.959692",
     "exception": false,
     "start_time": "2021-12-02T15:37:01.874760",
     "status": "completed"
    },
    "tags": []
   },
   "outputs": [],
   "source": [
    "Model_best = grid_search.best_estimator_"
   ]
  },
  {
   "cell_type": "code",
   "execution_count": null,
   "id": "e57fc609",
   "metadata": {
    "execution": {
     "iopub.execute_input": "2021-12-02T15:37:02.124533Z",
     "iopub.status.busy": "2021-12-02T15:37:02.123831Z",
     "iopub.status.idle": "2021-12-02T15:37:02.609709Z",
     "shell.execute_reply": "2021-12-02T15:37:02.608028Z",
     "shell.execute_reply.started": "2021-12-02T13:51:04.885622Z"
    },
    "id": "e57fc609",
    "outputId": "435c1715-5ec9-4ce1-ce48-145c9aff62ae",
    "papermill": {
     "duration": 0.569898,
     "end_time": "2021-12-02T15:37:02.609960",
     "exception": false,
     "start_time": "2021-12-02T15:37:02.040062",
     "status": "completed"
    },
    "tags": []
   },
   "outputs": [],
   "source": [
    "plot_roc_curve(Model_best,X_train,y_train)\n",
    "y_train_pred = Model_best.predict(X_train)\n",
    "\n",
    "print(f1_score(y_train,y_train_pred))\n",
    "print(recall_score(y_train,y_train_pred))"
   ]
  },
  {
   "cell_type": "code",
   "execution_count": null,
   "id": "b0b32762",
   "metadata": {
    "execution": {
     "iopub.execute_input": "2021-12-02T15:37:02.770589Z",
     "iopub.status.busy": "2021-12-02T15:37:02.769826Z",
     "iopub.status.idle": "2021-12-02T15:37:03.242931Z",
     "shell.execute_reply": "2021-12-02T15:37:03.243525Z",
     "shell.execute_reply.started": "2021-12-02T13:51:05.319697Z"
    },
    "id": "b0b32762",
    "outputId": "4a9a5407-2e58-4044-82c4-dd20469493ab",
    "papermill": {
     "duration": 0.55443,
     "end_time": "2021-12-02T15:37:03.243726",
     "exception": false,
     "start_time": "2021-12-02T15:37:02.689296",
     "status": "completed"
    },
    "tags": []
   },
   "outputs": [],
   "source": [
    "plot_roc_curve(Model_best,X_test,y_test)\n",
    "y_test_pred = Model_best.predict(X_test)\n",
    "\n",
    "print(f1_score(y_test,y_test_pred))\n",
    "print(recall_score(y_test,y_test_pred))"
   ]
  },
  {
   "cell_type": "code",
   "execution_count": null,
   "id": "f3d8748a",
   "metadata": {
    "execution": {
     "iopub.execute_input": "2021-12-02T15:37:03.415676Z",
     "iopub.status.busy": "2021-12-02T15:37:03.414098Z",
     "iopub.status.idle": "2021-12-02T15:37:03.523748Z",
     "shell.execute_reply": "2021-12-02T15:37:03.523155Z",
     "shell.execute_reply.started": "2021-12-02T13:51:05.747866Z"
    },
    "id": "f3d8748a",
    "papermill": {
     "duration": 0.197261,
     "end_time": "2021-12-02T15:37:03.523914",
     "exception": false,
     "start_time": "2021-12-02T15:37:03.326653",
     "status": "completed"
    },
    "tags": []
   },
   "outputs": [],
   "source": [
    "Feature_importance = pd.DataFrame({'Feature':X_train.columns,'Importance':Model_best.feature_importances_})\n",
    "Feature_importance = Feature_importance.sort_values(by='Importance',ascending=False)\n",
    "Feature_importance = Feature_importance.set_index('Feature')"
   ]
  },
  {
   "cell_type": "code",
   "execution_count": null,
   "id": "c8760e8f",
   "metadata": {
    "execution": {
     "iopub.execute_input": "2021-12-02T15:37:03.688732Z",
     "iopub.status.busy": "2021-12-02T15:37:03.687992Z",
     "iopub.status.idle": "2021-12-02T15:37:03.699260Z",
     "shell.execute_reply": "2021-12-02T15:37:03.699922Z",
     "shell.execute_reply.started": "2021-12-02T13:51:05.858538Z"
    },
    "id": "c8760e8f",
    "outputId": "3601540f-b41f-41e8-bd48-27d19aa56e2a",
    "papermill": {
     "duration": 0.096671,
     "end_time": "2021-12-02T15:37:03.700155",
     "exception": false,
     "start_time": "2021-12-02T15:37:03.603484",
     "status": "completed"
    },
    "tags": []
   },
   "outputs": [],
   "source": [
    "Feature_importance"
   ]
  },
  {
   "cell_type": "code",
   "execution_count": null,
   "id": "6daf2213",
   "metadata": {
    "execution": {
     "iopub.execute_input": "2021-12-02T15:37:03.864680Z",
     "iopub.status.busy": "2021-12-02T15:37:03.863864Z",
     "iopub.status.idle": "2021-12-02T15:37:03.868683Z",
     "shell.execute_reply": "2021-12-02T15:37:03.868091Z",
     "shell.execute_reply.started": "2021-12-02T13:51:05.870804Z"
    },
    "id": "6daf2213",
    "papermill": {
     "duration": 0.087301,
     "end_time": "2021-12-02T15:37:03.868842",
     "exception": false,
     "start_time": "2021-12-02T15:37:03.781541",
     "status": "completed"
    },
    "tags": []
   },
   "outputs": [],
   "source": [
    "#Using recall as the metric for validation as well as accuracy. \n",
    "#However giving a lot more importance to recall as predicting True positives are the most important."
   ]
  },
  {
   "cell_type": "code",
   "execution_count": null,
   "id": "3ebe5b60",
   "metadata": {
    "execution": {
     "iopub.execute_input": "2021-12-02T15:37:04.039854Z",
     "iopub.status.busy": "2021-12-02T15:37:04.039158Z",
     "iopub.status.idle": "2021-12-02T15:37:04.066661Z",
     "shell.execute_reply": "2021-12-02T15:37:04.066119Z",
     "shell.execute_reply.started": "2021-12-02T13:51:05.879371Z"
    },
    "id": "3ebe5b60",
    "outputId": "a3538358-621e-4ddb-85ee-b95cdb1fbffd",
    "papermill": {
     "duration": 0.11843,
     "end_time": "2021-12-02T15:37:04.066814",
     "exception": false,
     "start_time": "2021-12-02T15:37:03.948384",
     "status": "completed"
    },
    "tags": []
   },
   "outputs": [],
   "source": [
    "col = X.columns\n",
    "from sklearn.preprocessing import StandardScaler\n",
    "scaler = StandardScaler()\n",
    "X_scaled = scaler.fit_transform(X[col])\n",
    "X_scaled = pd.DataFrame(X_scaled,columns=col)\n",
    "X_scaled.head()"
   ]
  },
  {
   "cell_type": "code",
   "execution_count": null,
   "id": "1218cd86",
   "metadata": {
    "execution": {
     "iopub.execute_input": "2021-12-02T15:37:04.230569Z",
     "iopub.status.busy": "2021-12-02T15:37:04.229882Z",
     "iopub.status.idle": "2021-12-02T15:37:04.256843Z",
     "shell.execute_reply": "2021-12-02T15:37:04.256272Z",
     "shell.execute_reply.started": "2021-12-02T13:51:05.912343Z"
    },
    "id": "1218cd86",
    "outputId": "6a0e9a0f-a6f4-4d3c-b284-bc158e41fd29",
    "papermill": {
     "duration": 0.109794,
     "end_time": "2021-12-02T15:37:04.257003",
     "exception": false,
     "start_time": "2021-12-02T15:37:04.147209",
     "status": "completed"
    },
    "tags": []
   },
   "outputs": [],
   "source": [
    "X_train, X_test, y_train, y_test = train_test_split(X_scaled,y,train_size=0.7,random_state=100)\n",
    "X_train.head()"
   ]
  },
  {
   "cell_type": "code",
   "execution_count": null,
   "id": "4abbb02a",
   "metadata": {
    "execution": {
     "iopub.execute_input": "2021-12-02T15:37:04.425862Z",
     "iopub.status.busy": "2021-12-02T15:37:04.425218Z",
     "iopub.status.idle": "2021-12-02T15:37:04.428338Z",
     "shell.execute_reply": "2021-12-02T15:37:04.427712Z",
     "shell.execute_reply.started": "2021-12-02T13:51:05.935981Z"
    },
    "id": "4abbb02a",
    "papermill": {
     "duration": 0.089859,
     "end_time": "2021-12-02T15:37:04.428498",
     "exception": false,
     "start_time": "2021-12-02T15:37:04.338639",
     "status": "completed"
    },
    "tags": []
   },
   "outputs": [],
   "source": [
    "from sklearn.svm import SVC"
   ]
  },
  {
   "cell_type": "code",
   "execution_count": null,
   "id": "69ecfaa6",
   "metadata": {
    "execution": {
     "iopub.execute_input": "2021-12-02T15:37:04.600322Z",
     "iopub.status.busy": "2021-12-02T15:37:04.599556Z",
     "iopub.status.idle": "2021-12-02T15:37:47.559235Z",
     "shell.execute_reply": "2021-12-02T15:37:47.559735Z",
     "shell.execute_reply.started": "2021-12-02T13:51:05.941678Z"
    },
    "id": "69ecfaa6",
    "outputId": "5a7d4a48-fe1e-4d13-f989-ab9ca13929c8",
    "papermill": {
     "duration": 43.049145,
     "end_time": "2021-12-02T15:37:47.559927",
     "exception": false,
     "start_time": "2021-12-02T15:37:04.510782",
     "status": "completed"
    },
    "tags": []
   },
   "outputs": [],
   "source": [
    "Model = SVC(random_state=100,class_weight='balanced')\n",
    "\n",
    "params = {'C':[0.01,0.1,1,10,100,1000,10000],\n",
    "          'gamma':[10,1,0.1,0.001,0.0001,0.00001]}\n",
    "\n",
    "grid_search = GridSearchCV(estimator=Model,param_grid=params,verbose=1,n_jobs=-1,scoring='recall')\n",
    "grid_search.fit(X_train,y_train)"
   ]
  },
  {
   "cell_type": "code",
   "execution_count": null,
   "id": "cd941b4c",
   "metadata": {
    "execution": {
     "iopub.execute_input": "2021-12-02T15:37:47.735467Z",
     "iopub.status.busy": "2021-12-02T15:37:47.734757Z",
     "iopub.status.idle": "2021-12-02T15:37:47.738961Z",
     "shell.execute_reply": "2021-12-02T15:37:47.739561Z",
     "shell.execute_reply.started": "2021-12-02T13:51:47.662807Z"
    },
    "id": "cd941b4c",
    "papermill": {
     "duration": 0.093466,
     "end_time": "2021-12-02T15:37:47.739758",
     "exception": false,
     "start_time": "2021-12-02T15:37:47.646292",
     "status": "completed"
    },
    "tags": []
   },
   "outputs": [],
   "source": [
    "Model_best = grid_search.best_estimator_"
   ]
  },
  {
   "cell_type": "code",
   "execution_count": null,
   "id": "264ef4f4",
   "metadata": {
    "execution": {
     "iopub.execute_input": "2021-12-02T15:37:47.910236Z",
     "iopub.status.busy": "2021-12-02T15:37:47.909447Z",
     "iopub.status.idle": "2021-12-02T15:37:49.357780Z",
     "shell.execute_reply": "2021-12-02T15:37:49.357208Z",
     "shell.execute_reply.started": "2021-12-02T13:51:47.668707Z"
    },
    "id": "264ef4f4",
    "outputId": "96dba9eb-8414-4564-b120-7365bd8316d2",
    "papermill": {
     "duration": 1.534867,
     "end_time": "2021-12-02T15:37:49.357937",
     "exception": false,
     "start_time": "2021-12-02T15:37:47.823070",
     "status": "completed"
    },
    "tags": []
   },
   "outputs": [],
   "source": [
    "plot_roc_curve(Model_best,X_train,y_train)\n",
    "y_train_pred = Model_best.predict(X_train)\n",
    "\n",
    "print(f1_score(y_train,y_train_pred))\n",
    "print(recall_score(y_train,y_train_pred))"
   ]
  },
  {
   "cell_type": "code",
   "execution_count": null,
   "id": "733477c9",
   "metadata": {
    "execution": {
     "iopub.execute_input": "2021-12-02T15:37:49.528250Z",
     "iopub.status.busy": "2021-12-02T15:37:49.527487Z",
     "iopub.status.idle": "2021-12-02T15:37:50.282068Z",
     "shell.execute_reply": "2021-12-02T15:37:50.281513Z",
     "shell.execute_reply.started": "2021-12-02T13:51:49.060136Z"
    },
    "id": "733477c9",
    "outputId": "c84465ed-bfbe-4f8d-ceba-38e95b759a61",
    "papermill": {
     "duration": 0.840136,
     "end_time": "2021-12-02T15:37:50.282216",
     "exception": false,
     "start_time": "2021-12-02T15:37:49.442080",
     "status": "completed"
    },
    "tags": []
   },
   "outputs": [],
   "source": [
    "plot_roc_curve(Model_best,X_test,y_test)\n",
    "y_test_pred = Model_best.predict(X_test)\n",
    "\n",
    "print(f1_score(y_test,y_test_pred))\n",
    "print(recall_score(y_test,y_test_pred))"
   ]
  },
  {
   "cell_type": "code",
   "execution_count": null,
   "id": "320fa5fb",
   "metadata": {
    "execution": {
     "iopub.execute_input": "2021-12-02T15:37:50.458883Z",
     "iopub.status.busy": "2021-12-02T15:37:50.458191Z",
     "iopub.status.idle": "2021-12-02T15:38:31.716207Z",
     "shell.execute_reply": "2021-12-02T15:38:31.715585Z",
     "shell.execute_reply.started": "2021-12-02T13:51:49.784004Z"
    },
    "id": "320fa5fb",
    "outputId": "3bcb9c9b-80eb-4f89-e407-f1f193f032b8",
    "papermill": {
     "duration": 41.349258,
     "end_time": "2021-12-02T15:38:31.716367",
     "exception": false,
     "start_time": "2021-12-02T15:37:50.367109",
     "status": "completed"
    },
    "tags": []
   },
   "outputs": [],
   "source": [
    "Model = SVC(random_state=100,class_weight='balanced')\n",
    "\n",
    "params = {'C':[0.01,0.1,1,10,100,1000,10000],\n",
    "          'gamma':[10,1,0.1,0.001,0.0001,0.00001]}\n",
    "\n",
    "grid_search = GridSearchCV(estimator=Model,param_grid=params,verbose=1,n_jobs=-1,scoring='f1')\n",
    "grid_search.fit(X_train,y_train)"
   ]
  },
  {
   "cell_type": "code",
   "execution_count": null,
   "id": "f850210f",
   "metadata": {
    "execution": {
     "iopub.execute_input": "2021-12-02T15:38:31.900302Z",
     "iopub.status.busy": "2021-12-02T15:38:31.899255Z",
     "iopub.status.idle": "2021-12-02T15:38:31.902272Z",
     "shell.execute_reply": "2021-12-02T15:38:31.901622Z",
     "shell.execute_reply.started": "2021-12-02T13:52:30.771836Z"
    },
    "id": "f850210f",
    "papermill": {
     "duration": 0.095941,
     "end_time": "2021-12-02T15:38:31.902418",
     "exception": false,
     "start_time": "2021-12-02T15:38:31.806477",
     "status": "completed"
    },
    "tags": []
   },
   "outputs": [],
   "source": [
    "Model_best = grid_search.best_estimator_"
   ]
  },
  {
   "cell_type": "code",
   "execution_count": null,
   "id": "9256a1e5",
   "metadata": {
    "execution": {
     "iopub.execute_input": "2021-12-02T15:38:32.081450Z",
     "iopub.status.busy": "2021-12-02T15:38:32.080289Z",
     "iopub.status.idle": "2021-12-02T15:38:32.969546Z",
     "shell.execute_reply": "2021-12-02T15:38:32.968960Z",
     "shell.execute_reply.started": "2021-12-02T13:52:30.777409Z"
    },
    "id": "9256a1e5",
    "outputId": "676cbf33-c3bb-470d-9c7e-6cc16209ec7b",
    "papermill": {
     "duration": 0.98275,
     "end_time": "2021-12-02T15:38:32.969699",
     "exception": false,
     "start_time": "2021-12-02T15:38:31.986949",
     "status": "completed"
    },
    "tags": []
   },
   "outputs": [],
   "source": [
    "plot_roc_curve(Model_best,X_train,y_train)\n",
    "y_train_pred = Model_best.predict(X_train)\n",
    "\n",
    "print(f1_score(y_train,y_train_pred))\n",
    "print(recall_score(y_train,y_train_pred))"
   ]
  },
  {
   "cell_type": "code",
   "execution_count": null,
   "id": "63238859",
   "metadata": {
    "execution": {
     "iopub.execute_input": "2021-12-02T15:38:33.151836Z",
     "iopub.status.busy": "2021-12-02T15:38:33.150832Z",
     "iopub.status.idle": "2021-12-02T15:38:33.672750Z",
     "shell.execute_reply": "2021-12-02T15:38:33.672176Z",
     "shell.execute_reply.started": "2021-12-02T13:52:31.658975Z"
    },
    "id": "63238859",
    "outputId": "b68e28e7-5d34-4628-f94f-cf5289fe28a1",
    "papermill": {
     "duration": 0.616883,
     "end_time": "2021-12-02T15:38:33.672892",
     "exception": false,
     "start_time": "2021-12-02T15:38:33.056009",
     "status": "completed"
    },
    "tags": []
   },
   "outputs": [],
   "source": [
    "plot_roc_curve(Model_best,X_test,y_test)\n",
    "y_test_pred = Model_best.predict(X_test)\n",
    "\n",
    "print(f1_score(y_test,y_test_pred))\n",
    "print(recall_score(y_test,y_test_pred))"
   ]
  },
  {
   "cell_type": "code",
   "execution_count": null,
   "id": "df8a0819",
   "metadata": {},
   "outputs": [],
   "source": []
  }
 ],
 "metadata": {
  "colab": {
   "name": "UG-12_Assigment Tugas Akhir 4_Kelompok 2.ipynb",
   "provenance": []
  },
  "kernelspec": {
   "display_name": "Python 3",
   "language": "python",
   "name": "python3"
  },
  "language_info": {
   "codemirror_mode": {
    "name": "ipython",
    "version": 3
   },
   "file_extension": ".py",
   "mimetype": "text/x-python",
   "name": "python",
   "nbconvert_exporter": "python",
   "pygments_lexer": "ipython3",
   "version": "3.8.8"
  },
  "papermill": {
   "default_parameters": {},
   "duration": 6122.941113,
   "end_time": "2021-12-02T15:38:34.786696",
   "environment_variables": {},
   "exception": null,
   "input_path": "__notebook__.ipynb",
   "output_path": "__notebook__.ipynb",
   "parameters": {},
   "start_time": "2021-12-02T13:56:31.845583",
   "version": "2.3.3"
  }
 },
 "nbformat": 4,
 "nbformat_minor": 5
}
